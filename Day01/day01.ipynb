{
 "cells": [
  {
   "cell_type": "markdown",
   "id": "5f088429",
   "metadata": {},
   "source": [
    "# Day 01 – Python Basics \n",
    "\n",
    "In this notebook, I practiced Python basics including print statements, formatting, variables, data types, arithmetic operations, and operator precedence (PEMDAS).\n"
   ]
  },
  {
   "cell_type": "code",
   "execution_count": 1,
   "id": "190f3d38",
   "metadata": {},
   "outputs": [
    {
     "name": "stdout",
     "output_type": "stream",
     "text": [
      "Hello World\n"
     ]
    }
   ],
   "source": [
    "# Python Basics  \n",
    "print(\"Hello World\")\n"
   ]
  },
  {
   "cell_type": "markdown",
   "id": "70da300f",
   "metadata": {},
   "source": [
    "## Variables and Data Types\n"
   ]
  },
  {
   "cell_type": "code",
   "execution_count": 4,
   "id": "25ade692",
   "metadata": {},
   "outputs": [
    {
     "name": "stdout",
     "output_type": "stream",
     "text": [
      "a = 23\n",
      "b = My name is Irfan\n",
      "c = 26.5\n",
      "d = True\n",
      "Type of a: <class 'int'>\n",
      "Type of b: <class 'str'>\n",
      "Type of c: <class 'float'>\n",
      "Type of d: <class 'bool'>\n"
     ]
    }
   ],
   "source": [
    "# Variables and Data Types\n",
    "a = 23             # integer\n",
    "b = \"My name is Irfan\"  # string\n",
    "c = 26.5           # float \n",
    "d = True           # boolean\n",
    "# Display variable values\n",
    "print(\"a =\", a)\n",
    "print(\"b =\", b)\n",
    "print(\"c =\", c)\n",
    "print(\"d =\", d)\n",
    "# Data types\n",
    "print(\"Type of a:\", type(a))\n",
    "print(\"Type of b:\", type(b))\n",
    "print(\"Type of c:\", type(c))\n",
    "print(\"Type of d:\", type(d))\n",
    "\n"
   ]
  },
  {
   "cell_type": "markdown",
   "id": "104e00a5",
   "metadata": {},
   "source": [
    "## Arithmetic Operations\n"
   ]
  },
  {
   "cell_type": "markdown",
   "id": "2ccec1c3",
   "metadata": {},
   "source": [
    "## Operator Precedence – PEMDAS Rule\n",
    "\n",
    "PEMDAS stands for:\n",
    "- **P**: Parentheses  \n",
    "- **E**: Exponents  \n",
    "- **MD**: Multiplication and Division (from left to right)  \n",
    "- **AS**: Addition and Subtraction (from left to right)\n",
    "\n",
    "Let's test it below:\n"
   ]
  },
  {
   "cell_type": "code",
   "execution_count": 7,
   "id": "7e3ac5d3",
   "metadata": {},
   "outputs": [
    {
     "name": "stdout",
     "output_type": "stream",
     "text": [
      "-493.5\n"
     ]
    }
   ],
   "source": [
    "# Python uses PEMDAS (Parenthesis, Exponent, Multiply/Divide, Add/Subtract)\n",
    "print(2 + 2 / 4 * 67 - (23)**2)\n"
   ]
  },
  {
   "cell_type": "code",
   "execution_count": null,
   "id": "d61c3ee2",
   "metadata": {},
   "outputs": [],
   "source": []
  }
 ],
 "metadata": {
  "kernelspec": {
   "display_name": "base",
   "language": "python",
   "name": "python3"
  },
  "language_info": {
   "codemirror_mode": {
    "name": "ipython",
    "version": 3
   },
   "file_extension": ".py",
   "mimetype": "text/x-python",
   "name": "python",
   "nbconvert_exporter": "python",
   "pygments_lexer": "ipython3",
   "version": "3.11.5"
  }
 },
 "nbformat": 4,
 "nbformat_minor": 5
}
